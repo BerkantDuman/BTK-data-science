{
 "cells": [
  {
   "cell_type": "code",
   "execution_count": 2,
   "metadata": {},
   "outputs": [],
   "source": [
    "import numpy as np\n",
    "import pandas as pd"
   ]
  },
  {
   "cell_type": "code",
   "execution_count": 5,
   "metadata": {},
   "outputs": [],
   "source": [
    "excelFrame = pd.read_excel(\"data.xlsx\")"
   ]
  },
  {
   "cell_type": "code",
   "execution_count": 6,
   "metadata": {},
   "outputs": [
    {
     "data": {
      "text/html": [
       "<div>\n",
       "<style scoped>\n",
       "    .dataframe tbody tr th:only-of-type {\n",
       "        vertical-align: middle;\n",
       "    }\n",
       "\n",
       "    .dataframe tbody tr th {\n",
       "        vertical-align: top;\n",
       "    }\n",
       "\n",
       "    .dataframe thead th {\n",
       "        text-align: right;\n",
       "    }\n",
       "</style>\n",
       "<table border=\"1\" class=\"dataframe\">\n",
       "  <thead>\n",
       "    <tr style=\"text-align: right;\">\n",
       "      <th></th>\n",
       "      <th>ID</th>\n",
       "      <th>Densite</th>\n",
       "      <th>Polarite</th>\n",
       "      <th>H20_Skoru</th>\n",
       "      <th>O2_Skoru</th>\n",
       "      <th>Azot_Skoru</th>\n",
       "      <th>Sınıf Bilgisi</th>\n",
       "    </tr>\n",
       "  </thead>\n",
       "  <tbody>\n",
       "    <tr>\n",
       "      <th>0</th>\n",
       "      <td>1</td>\n",
       "      <td>0.560</td>\n",
       "      <td>1.470000</td>\n",
       "      <td>5.100000</td>\n",
       "      <td>6.86</td>\n",
       "      <td>3.5</td>\n",
       "      <td>yaşanamaz</td>\n",
       "    </tr>\n",
       "    <tr>\n",
       "      <th>1</th>\n",
       "      <td>2</td>\n",
       "      <td>0.574</td>\n",
       "      <td>NaN</td>\n",
       "      <td>4.900000</td>\n",
       "      <td>6.58</td>\n",
       "      <td>NaN</td>\n",
       "      <td>yaşanamaz</td>\n",
       "    </tr>\n",
       "    <tr>\n",
       "      <th>2</th>\n",
       "      <td>3</td>\n",
       "      <td>0.426</td>\n",
       "      <td>1.387000</td>\n",
       "      <td>4.700000</td>\n",
       "      <td>5.85</td>\n",
       "      <td>3.2</td>\n",
       "      <td>yaşanamaz</td>\n",
       "    </tr>\n",
       "    <tr>\n",
       "      <th>3</th>\n",
       "      <td>4</td>\n",
       "      <td>0.600</td>\n",
       "      <td>0.203572</td>\n",
       "      <td>4.600000</td>\n",
       "      <td>6.60</td>\n",
       "      <td>3.1</td>\n",
       "      <td>yaşanamaz</td>\n",
       "    </tr>\n",
       "    <tr>\n",
       "      <th>4</th>\n",
       "      <td>5</td>\n",
       "      <td>0.532</td>\n",
       "      <td>0.203572</td>\n",
       "      <td>5.000000</td>\n",
       "      <td>NaN</td>\n",
       "      <td>3.6</td>\n",
       "      <td>yaşanamaz</td>\n",
       "    </tr>\n",
       "    <tr>\n",
       "      <th>5</th>\n",
       "      <td>6</td>\n",
       "      <td>NaN</td>\n",
       "      <td>0.203572</td>\n",
       "      <td>5.736559</td>\n",
       "      <td>-0.68</td>\n",
       "      <td>3.9</td>\n",
       "      <td>yaşanamaz</td>\n",
       "    </tr>\n",
       "    <tr>\n",
       "      <th>6</th>\n",
       "      <td>7</td>\n",
       "      <td>0.476</td>\n",
       "      <td>NaN</td>\n",
       "      <td>4.600000</td>\n",
       "      <td>6.02</td>\n",
       "      <td>NaN</td>\n",
       "      <td>NaN</td>\n",
       "    </tr>\n",
       "    <tr>\n",
       "      <th>7</th>\n",
       "      <td>8</td>\n",
       "      <td>0.650</td>\n",
       "      <td>0.203572</td>\n",
       "      <td>5.000000</td>\n",
       "      <td>7.20</td>\n",
       "      <td>3.4</td>\n",
       "      <td>yaşanamaz</td>\n",
       "    </tr>\n",
       "    <tr>\n",
       "      <th>8</th>\n",
       "      <td>9</td>\n",
       "      <td>NaN</td>\n",
       "      <td>0.203572</td>\n",
       "      <td>4.400000</td>\n",
       "      <td>0.00</td>\n",
       "      <td>2.9</td>\n",
       "      <td>yaşanamaz</td>\n",
       "    </tr>\n",
       "  </tbody>\n",
       "</table>\n",
       "</div>"
      ],
      "text/plain": [
       "   ID  Densite  Polarite  H20_Skoru  O2_Skoru  Azot_Skoru Sınıf Bilgisi\n",
       "0   1    0.560  1.470000   5.100000      6.86         3.5     yaşanamaz\n",
       "1   2    0.574       NaN   4.900000      6.58         NaN     yaşanamaz\n",
       "2   3    0.426  1.387000   4.700000      5.85         3.2     yaşanamaz\n",
       "3   4    0.600  0.203572   4.600000      6.60         3.1     yaşanamaz\n",
       "4   5    0.532  0.203572   5.000000       NaN         3.6     yaşanamaz\n",
       "5   6      NaN  0.203572   5.736559     -0.68         3.9     yaşanamaz\n",
       "6   7    0.476       NaN   4.600000      6.02         NaN           NaN\n",
       "7   8    0.650  0.203572   5.000000      7.20         3.4     yaşanamaz\n",
       "8   9      NaN  0.203572   4.400000      0.00         2.9     yaşanamaz"
      ]
     },
     "execution_count": 6,
     "metadata": {},
     "output_type": "execute_result"
    }
   ],
   "source": [
    "excelFrame"
   ]
  },
  {
   "cell_type": "code",
   "execution_count": 8,
   "metadata": {},
   "outputs": [],
   "source": [
    "doluExcel = excelFrame.dropna()"
   ]
  },
  {
   "cell_type": "code",
   "execution_count": 9,
   "metadata": {},
   "outputs": [],
   "source": [
    "doluExcel.to_excel(\"yeniList.xlsx\")"
   ]
  },
  {
   "cell_type": "code",
   "execution_count": null,
   "metadata": {},
   "outputs": [],
   "source": []
  }
 ],
 "metadata": {
  "kernelspec": {
   "display_name": "Python 3",
   "language": "python",
   "name": "python3"
  },
  "language_info": {
   "codemirror_mode": {
    "name": "ipython",
    "version": 3
   },
   "file_extension": ".py",
   "mimetype": "text/x-python",
   "name": "python",
   "nbconvert_exporter": "python",
   "pygments_lexer": "ipython3",
   "version": "3.8.3"
  }
 },
 "nbformat": 4,
 "nbformat_minor": 4
}
